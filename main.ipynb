{
 "cells": [
  {
   "cell_type": "code",
   "execution_count": 3,
   "metadata": {},
   "outputs": [],
   "source": [
    "import pandas as pd\n",
    "import datetime"
   ]
  },
  {
   "cell_type": "code",
   "execution_count": 4,
   "metadata": {},
   "outputs": [],
   "source": [
    "month = pd.DataFrame({'категория': [], 'сумма': [], 'комментарий': []})"
   ]
  },
  {
   "cell_type": "code",
   "execution_count": 5,
   "metadata": {},
   "outputs": [
    {
     "data": {
      "text/html": [
       "<div>\n",
       "<style scoped>\n",
       "    .dataframe tbody tr th:only-of-type {\n",
       "        vertical-align: middle;\n",
       "    }\n",
       "\n",
       "    .dataframe tbody tr th {\n",
       "        vertical-align: top;\n",
       "    }\n",
       "\n",
       "    .dataframe thead th {\n",
       "        text-align: right;\n",
       "    }\n",
       "</style>\n",
       "<table border=\"1\" class=\"dataframe\">\n",
       "  <thead>\n",
       "    <tr style=\"text-align: right;\">\n",
       "      <th></th>\n",
       "      <th>категория</th>\n",
       "      <th>сумма</th>\n",
       "      <th>комментарий</th>\n",
       "    </tr>\n",
       "  </thead>\n",
       "  <tbody>\n",
       "  </tbody>\n",
       "</table>\n",
       "</div>"
      ],
      "text/plain": [
       "Empty DataFrame\n",
       "Columns: [категория, сумма, комментарий]\n",
       "Index: []"
      ]
     },
     "execution_count": 5,
     "metadata": {},
     "output_type": "execute_result"
    }
   ],
   "source": [
    "month"
   ]
  },
  {
   "cell_type": "code",
   "execution_count": 60,
   "metadata": {},
   "outputs": [],
   "source": [
    "class money_tracker_month:\n",
    "    def __init__(self, month_number=datetime.date.today().month):\n",
    "        self.day = datetime.date.today().day\n",
    "        self.month_number = month_number\n",
    "        self.year = datetime.date.today().year\n",
    "        num_to_month = {\n",
    "            '1': 'Январь', '2': 'Февраль', '3': 'Март', '4': 'Апрель', '5': 'Май', '6': 'Июнь',\n",
    "            '7': 'Июль', '8': 'Август', '9': 'Сентябрь', '10': 'Октябрь', '11': 'Ноябрь', '12': 'Декабрь' }\n",
    "        self.month_name = num_to_month[str(month_number)]\n",
    "\n",
    "        self.table = pd.DataFrame({'категория': [], 'сумма': [], 'комментарий': []})\n",
    "        self.table_name = str(self.month_name)+'_'+str(self.year)+'.xlsx'\n",
    "\n",
    "        self.expenses_group = ['здоровье и красота',\n",
    "                               'образование',\n",
    "                               'развлечения',\n",
    "                               'туризм, путешествия',\n",
    "                               'продукты и хозтовары',\n",
    "                               'квартплата',\n",
    "                               'интеренет и связь',\n",
    "                               'непредвиденное, ремонт',\n",
    "                               'одежда, товары',\n",
    "                               'цифровые покупки',\n",
    "                               'ненужные траты',\n",
    "                               'дети',\n",
    "                               'прочее']\n",
    "        \n",
    "        self.gain_group = ['зарплата',\n",
    "                           'подработка',\n",
    "                           'дивиденды и купоны',\n",
    "                           'депозиты']\n",
    "\n",
    "    def create_xlsx(self, filename=None):\n",
    "        if filename == None:\n",
    "            self.table.to_excel(self.table_name, index=0)\n",
    "        else:\n",
    "            self.table_name = filename\n",
    "            self.table.to_excel(filename)\n",
    "\n",
    "    def read_xlsx(self, filename=None):\n",
    "        if filename == None:\n",
    "            self.table = pd.read_excel(self.table_name)\n",
    "        else:\n",
    "            self.table_name = filename\n",
    "            self.table = pd.read_excel(filename)\n",
    "\n",
    "    def write_xlsx(self):\n",
    "        self.table.to_excel(self.table_name)\n",
    "\n",
    "    def get_expenses_group(self):\n",
    "        print('Группы расходов:')\n",
    "        for elem in self.expenses_group:\n",
    "            print(\"{:^5}\".format(elem), end='|')\n",
    "        print()\n",
    "        print('Группы доходов:')\n",
    "        for elem in self.gain_group:\n",
    "            print(\"{:^5}\".format(elem), end='|')\n",
    "\n",
    "    def add_expenses(self, category='прочее', value=0,  comment=''):\n",
    "        self.table.loc[len(self.table)] = [category, value, comment]\n"
   ]
  },
  {
   "cell_type": "code",
   "execution_count": 61,
   "metadata": {},
   "outputs": [
    {
     "name": "stdout",
     "output_type": "stream",
     "text": [
      "13 Сентябрь 2023\n"
     ]
    }
   ],
   "source": [
    "first = money_tracker_month()\n",
    "print(first.day, first.month_name, first.year)\n",
    "# first.create_xlsx()"
   ]
  },
  {
   "cell_type": "code",
   "execution_count": 62,
   "metadata": {},
   "outputs": [
    {
     "data": {
      "text/html": [
       "<div>\n",
       "<style scoped>\n",
       "    .dataframe tbody tr th:only-of-type {\n",
       "        vertical-align: middle;\n",
       "    }\n",
       "\n",
       "    .dataframe tbody tr th {\n",
       "        vertical-align: top;\n",
       "    }\n",
       "\n",
       "    .dataframe thead th {\n",
       "        text-align: right;\n",
       "    }\n",
       "</style>\n",
       "<table border=\"1\" class=\"dataframe\">\n",
       "  <thead>\n",
       "    <tr style=\"text-align: right;\">\n",
       "      <th></th>\n",
       "      <th>категория</th>\n",
       "      <th>сумма</th>\n",
       "      <th>комментарий</th>\n",
       "    </tr>\n",
       "  </thead>\n",
       "  <tbody>\n",
       "    <tr>\n",
       "      <th>0</th>\n",
       "      <td>1</td>\n",
       "      <td>2</td>\n",
       "      <td>3</td>\n",
       "    </tr>\n",
       "  </tbody>\n",
       "</table>\n",
       "</div>"
      ],
      "text/plain": [
       "   категория  сумма  комментарий\n",
       "0          1      2            3"
      ]
     },
     "execution_count": 62,
     "metadata": {},
     "output_type": "execute_result"
    }
   ],
   "source": [
    "first.read_xlsx()\n",
    "first.table"
   ]
  },
  {
   "cell_type": "code",
   "execution_count": 63,
   "metadata": {},
   "outputs": [
    {
     "name": "stdout",
     "output_type": "stream",
     "text": [
      "Группы расходов:\n",
      "здоровье и красота|образование|развлечения|туризм, путешествия|продукты и хозтовары|квартплата|интеренет и связь|непредвиденное, ремонт|одежда, товары|цифровые покупки|ненужные траты|дети |прочее|\n",
      "Группы доходов:\n",
      "зарплата|подработка|дивиденды и купоны|депозиты|"
     ]
    }
   ],
   "source": [
    "first.get_expenses_group()"
   ]
  },
  {
   "cell_type": "code",
   "execution_count": 67,
   "metadata": {},
   "outputs": [
    {
     "data": {
      "text/html": [
       "<div>\n",
       "<style scoped>\n",
       "    .dataframe tbody tr th:only-of-type {\n",
       "        vertical-align: middle;\n",
       "    }\n",
       "\n",
       "    .dataframe tbody tr th {\n",
       "        vertical-align: top;\n",
       "    }\n",
       "\n",
       "    .dataframe thead th {\n",
       "        text-align: right;\n",
       "    }\n",
       "</style>\n",
       "<table border=\"1\" class=\"dataframe\">\n",
       "  <thead>\n",
       "    <tr style=\"text-align: right;\">\n",
       "      <th></th>\n",
       "      <th>категория</th>\n",
       "      <th>сумма</th>\n",
       "      <th>комментарий</th>\n",
       "    </tr>\n",
       "  </thead>\n",
       "  <tbody>\n",
       "    <tr>\n",
       "      <th>0</th>\n",
       "      <td>1</td>\n",
       "      <td>2</td>\n",
       "      <td>3</td>\n",
       "    </tr>\n",
       "    <tr>\n",
       "      <th>1</th>\n",
       "      <td>прочее</td>\n",
       "      <td>0</td>\n",
       "      <td></td>\n",
       "    </tr>\n",
       "    <tr>\n",
       "      <th>2</th>\n",
       "      <td>прочее</td>\n",
       "      <td>0</td>\n",
       "      <td></td>\n",
       "    </tr>\n",
       "    <tr>\n",
       "      <th>3</th>\n",
       "      <td>прочее</td>\n",
       "      <td>1000</td>\n",
       "      <td></td>\n",
       "    </tr>\n",
       "    <tr>\n",
       "      <th>4</th>\n",
       "      <td>образование</td>\n",
       "      <td>1000</td>\n",
       "      <td></td>\n",
       "    </tr>\n",
       "  </tbody>\n",
       "</table>\n",
       "</div>"
      ],
      "text/plain": [
       "     категория  сумма комментарий\n",
       "0            1      2           3\n",
       "1       прочее      0            \n",
       "2       прочее      0            \n",
       "3       прочее   1000            \n",
       "4  образование   1000            "
      ]
     },
     "execution_count": 67,
     "metadata": {},
     "output_type": "execute_result"
    }
   ],
   "source": [
    "first.add_expenses(value=1000, category='образование')\n",
    "first.table"
   ]
  },
  {
   "cell_type": "code",
   "execution_count": 68,
   "metadata": {},
   "outputs": [],
   "source": [
    "first.write_xlsx()"
   ]
  },
  {
   "cell_type": "code",
   "execution_count": null,
   "metadata": {},
   "outputs": [],
   "source": []
  }
 ],
 "metadata": {
  "kernelspec": {
   "display_name": "Python 3",
   "language": "python",
   "name": "python3"
  },
  "language_info": {
   "codemirror_mode": {
    "name": "ipython",
    "version": 3
   },
   "file_extension": ".py",
   "mimetype": "text/x-python",
   "name": "python",
   "nbconvert_exporter": "python",
   "pygments_lexer": "ipython3",
   "version": "3.11.2"
  },
  "orig_nbformat": 4
 },
 "nbformat": 4,
 "nbformat_minor": 2
}
