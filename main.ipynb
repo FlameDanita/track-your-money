{
 "cells": [
  {
   "cell_type": "code",
   "execution_count": 11,
   "metadata": {},
   "outputs": [],
   "source": [
    "import pandas as pd\n",
    "import datetime"
   ]
  },
  {
   "cell_type": "code",
   "execution_count": 208,
   "metadata": {},
   "outputs": [],
   "source": [
    "class money_tracker_month:\n",
    "    def __init__(self, month_number=datetime.date.today().month):\n",
    "        self.day = datetime.date.today().day\n",
    "        self.month_number = month_number\n",
    "        self.year = datetime.date.today().year\n",
    "        self.num_to_month = {\n",
    "            1: 'Январь', 2: 'Февраль', 3: 'Март', 4: 'Апрель', 5: 'Май', 6: 'Июнь',\n",
    "            7: 'Июль', 8: 'Август', 9: 'Сентябрь', 10: 'Октябрь', 11: 'Ноябрь', 12: 'Декабрь' }\n",
    "        self.month_name = self.num_to_month[month_number]\n",
    "        self.date = datetime.datetime(day=self.day, month=self.month_number, year=self.year)\n",
    "\n",
    "        self.table = pd.DataFrame({'дата': [], 'категория': [], 'сумма': [], 'комментарий': []})\n",
    "        self.table_name = str(self.month_name)+'_'+str(self.year)+'.xlsx'\n",
    "\n",
    "        self.expenses_group =  {1: 'продукты',\n",
    "                               2: 'транспорт',\n",
    "                               3: 'развлечения',\n",
    "                               4: 'здоровье',\n",
    "                               5: 'связь',\n",
    "                               6: 'квартплата',\n",
    "                               7: 'непредвиденное',\n",
    "                               8: 'одежда',\n",
    "                               9: 'цифровые',\n",
    "                               10: 'ненужные',\n",
    "                               11: 'прочее'}\n",
    "        \n",
    "        self.gain_group = {100: 'зарплата',\n",
    "                           101: 'подработка',\n",
    "                           102: 'дивиденды',\n",
    "                           103: 'депозиты'}\n",
    "\n",
    "    def create_xlsx(self, filename=None):\n",
    "        if filename == None:\n",
    "            self.table.to_excel(self.table_name, index=0)\n",
    "        else:\n",
    "            self.table_name = filename\n",
    "            self.table.to_excel(filename, index=0)\n",
    "\n",
    "    def read_xlsx(self, filename=None):\n",
    "        if filename == None:\n",
    "            self.table = pd.read_excel(self.table_name)\n",
    "        else:\n",
    "            self.table_name = filename\n",
    "            self.table = pd.read_excel(filename)\n",
    "\n",
    "            self.month_name = filename.split('_')[0]\n",
    "            for key, value in self.num_to_month.items():\n",
    "                if self.month_name == value:\n",
    "                    self.month_number = key\n",
    "            self.year = int(filename.split('_')[1].split('.')[0])\n",
    "\n",
    "            self.date = datetime.datetime(day=self.day, month=self.month_number, year=self.year)\n",
    "\n",
    "    def write_xlsx(self):\n",
    "        self.table.to_excel(self.table_name, index=0)\n",
    "\n",
    "    def get_expenses_group(self):\n",
    "        print('Группы расходов:')\n",
    "        for key, value in self.expenses_group.items():\n",
    "            print(\"{:>2}\".format(key), end='|')\n",
    "            print(\"{:<15}\".format(value)+'|')\n",
    "        print()\n",
    "\n",
    "        print('Группы доходов:')\n",
    "        for key, value in self.gain_group.items():\n",
    "            print(\"{:>2}\".format(key), end='|')\n",
    "            print(\"{:<15}\".format(value)+'|')\n",
    "        print()\n",
    "\n",
    "    def add_expenses_manual(self, date=0, category='прочее', value=0,  comment=''):\n",
    "        self.table.loc[len(self.table)] = [date, category, value, comment]\n",
    "\n",
    "    def add_expenses_auto(self):\n",
    "        flag = True\n",
    "        month_num = \"{:>02d}\".format(self.month_number)\n",
    "        while True:\n",
    "            date = \"{:>02d}\".format(int(input('Дата = '))) + '.' + month_num + '.' + str(self.year)\n",
    "\n",
    "            num_category = int(input('Категория = '))\n",
    "\n",
    "            cost = int(input('Сумма = '))\n",
    "            if num_category in self.expenses_group.keys():\n",
    "                self.table.loc[len(self.table)] = [date, self.expenses_group[num_category], -cost, str(input('Комментарий = '))]\n",
    "            elif num_category in self.gain_group.keys():\n",
    "                self.table.loc[len(self.table)] = [date, self.gain_group[num_category], cost, str(input('Комментарий = '))]\n",
    "            else:\n",
    "                pass\n",
    "                # добавить ошибку ввода\n",
    "\n",
    "            if str(input('Продолжить?[Y/n]')) == 'n':\n",
    "                break\n"
   ]
  },
  {
   "cell_type": "code",
   "execution_count": 209,
   "metadata": {},
   "outputs": [
    {
     "name": "stdout",
     "output_type": "stream",
     "text": [
      "14 Сентябрь 2023\n"
     ]
    }
   ],
   "source": [
    "first = money_tracker_month()\n",
    "print(first.day, first.month_name, first.year)\n",
    "# first.create_xlsx(filename='Август_2023.xlsx')\n",
    "# first.write_xlsx()"
   ]
  },
  {
   "cell_type": "code",
   "execution_count": 210,
   "metadata": {},
   "outputs": [
    {
     "data": {
      "text/html": [
       "<div>\n",
       "<style scoped>\n",
       "    .dataframe tbody tr th:only-of-type {\n",
       "        vertical-align: middle;\n",
       "    }\n",
       "\n",
       "    .dataframe tbody tr th {\n",
       "        vertical-align: top;\n",
       "    }\n",
       "\n",
       "    .dataframe thead th {\n",
       "        text-align: right;\n",
       "    }\n",
       "</style>\n",
       "<table border=\"1\" class=\"dataframe\">\n",
       "  <thead>\n",
       "    <tr style=\"text-align: right;\">\n",
       "      <th></th>\n",
       "      <th>дата</th>\n",
       "      <th>категория</th>\n",
       "      <th>сумма</th>\n",
       "      <th>комментарий</th>\n",
       "    </tr>\n",
       "  </thead>\n",
       "  <tbody>\n",
       "  </tbody>\n",
       "</table>\n",
       "</div>"
      ],
      "text/plain": [
       "Empty DataFrame\n",
       "Columns: [дата, категория, сумма, комментарий]\n",
       "Index: []"
      ]
     },
     "execution_count": 210,
     "metadata": {},
     "output_type": "execute_result"
    }
   ],
   "source": [
    "first.read_xlsx(filename='Август_2023.xlsx')\n",
    "first.table"
   ]
  },
  {
   "cell_type": "code",
   "execution_count": 211,
   "metadata": {},
   "outputs": [
    {
     "name": "stdout",
     "output_type": "stream",
     "text": [
      "Группы расходов:\n",
      " 1|продукты       |\n",
      " 2|транспорт      |\n",
      " 3|развлечения    |\n",
      " 4|здоровье       |\n",
      " 5|связь          |\n",
      " 6|квартплата     |\n",
      " 7|непредвиденное |\n",
      " 8|одежда         |\n",
      " 9|цифровые       |\n",
      "10|ненужные       |\n",
      "11|прочее         |\n",
      "\n",
      "Группы доходов:\n",
      "100|зарплата       |\n",
      "101|подработка     |\n",
      "102|дивиденды      |\n",
      "103|депозиты       |\n",
      "\n"
     ]
    }
   ],
   "source": [
    "first.get_expenses_group()"
   ]
  },
  {
   "cell_type": "code",
   "execution_count": 212,
   "metadata": {},
   "outputs": [
    {
     "name": "stdout",
     "output_type": "stream",
     "text": [
      "Группы расходов:\n",
      " 1|продукты       |\n",
      " 2|транспорт      |\n",
      " 3|развлечения    |\n",
      " 4|здоровье       |\n",
      " 5|связь          |\n",
      " 6|квартплата     |\n",
      " 7|непредвиденное |\n",
      " 8|одежда         |\n",
      " 9|цифровые       |\n",
      "10|ненужные       |\n",
      "11|прочее         |\n",
      "\n",
      "Группы доходов:\n",
      "100|зарплата       |\n",
      "101|подработка     |\n",
      "102|дивиденды      |\n",
      "103|депозиты       |\n",
      "\n"
     ]
    },
    {
     "ename": "ValueError",
     "evalue": "invalid literal for int() with base 10: ''",
     "output_type": "error",
     "traceback": [
      "\u001b[0;31m---------------------------------------------------------------------------\u001b[0m",
      "\u001b[0;31mValueError\u001b[0m                                Traceback (most recent call last)",
      "\u001b[1;32m/Users/danita/Documents/GitHub/track-your-money/main.ipynb Ячейка 6\u001b[0m line \u001b[0;36m2\n\u001b[1;32m      <a href='vscode-notebook-cell:/Users/danita/Documents/GitHub/track-your-money/main.ipynb#X15sZmlsZQ%3D%3D?line=0'>1</a>\u001b[0m first\u001b[39m.\u001b[39mget_expenses_group()\n\u001b[0;32m----> <a href='vscode-notebook-cell:/Users/danita/Documents/GitHub/track-your-money/main.ipynb#X15sZmlsZQ%3D%3D?line=1'>2</a>\u001b[0m first\u001b[39m.\u001b[39;49madd_expenses_auto()\n\u001b[1;32m      <a href='vscode-notebook-cell:/Users/danita/Documents/GitHub/track-your-money/main.ipynb#X15sZmlsZQ%3D%3D?line=2'>3</a>\u001b[0m first\u001b[39m.\u001b[39mwrite_xlsx()\n\u001b[1;32m      <a href='vscode-notebook-cell:/Users/danita/Documents/GitHub/track-your-money/main.ipynb#X15sZmlsZQ%3D%3D?line=3'>4</a>\u001b[0m first\u001b[39m.\u001b[39mtable\u001b[39m.\u001b[39mtail()\n",
      "\u001b[1;32m/Users/danita/Documents/GitHub/track-your-money/main.ipynb Ячейка 6\u001b[0m line \u001b[0;36m7\n\u001b[1;32m     <a href='vscode-notebook-cell:/Users/danita/Documents/GitHub/track-your-money/main.ipynb#X15sZmlsZQ%3D%3D?line=74'>75</a>\u001b[0m month_num \u001b[39m=\u001b[39m \u001b[39m\"\u001b[39m\u001b[39m{:>02d}\u001b[39;00m\u001b[39m\"\u001b[39m\u001b[39m.\u001b[39mformat(\u001b[39mself\u001b[39m\u001b[39m.\u001b[39mmonth_number)\n\u001b[1;32m     <a href='vscode-notebook-cell:/Users/danita/Documents/GitHub/track-your-money/main.ipynb#X15sZmlsZQ%3D%3D?line=75'>76</a>\u001b[0m \u001b[39mwhile\u001b[39;00m \u001b[39mTrue\u001b[39;00m:\n\u001b[0;32m---> <a href='vscode-notebook-cell:/Users/danita/Documents/GitHub/track-your-money/main.ipynb#X15sZmlsZQ%3D%3D?line=76'>77</a>\u001b[0m     date \u001b[39m=\u001b[39m \u001b[39m\"\u001b[39m\u001b[39m{:>02d}\u001b[39;00m\u001b[39m\"\u001b[39m\u001b[39m.\u001b[39mformat(\u001b[39mint\u001b[39;49m(\u001b[39minput\u001b[39;49m(\u001b[39m'\u001b[39;49m\u001b[39mДата = \u001b[39;49m\u001b[39m'\u001b[39;49m))) \u001b[39m+\u001b[39m \u001b[39m'\u001b[39m\u001b[39m.\u001b[39m\u001b[39m'\u001b[39m \u001b[39m+\u001b[39m month_num \u001b[39m+\u001b[39m \u001b[39m'\u001b[39m\u001b[39m.\u001b[39m\u001b[39m'\u001b[39m \u001b[39m+\u001b[39m \u001b[39mstr\u001b[39m(\u001b[39mself\u001b[39m\u001b[39m.\u001b[39myear)\n\u001b[1;32m     <a href='vscode-notebook-cell:/Users/danita/Documents/GitHub/track-your-money/main.ipynb#X15sZmlsZQ%3D%3D?line=78'>79</a>\u001b[0m     num_category \u001b[39m=\u001b[39m \u001b[39mint\u001b[39m(\u001b[39minput\u001b[39m(\u001b[39m'\u001b[39m\u001b[39mКатегория = \u001b[39m\u001b[39m'\u001b[39m))\n\u001b[1;32m     <a href='vscode-notebook-cell:/Users/danita/Documents/GitHub/track-your-money/main.ipynb#X15sZmlsZQ%3D%3D?line=80'>81</a>\u001b[0m     cost \u001b[39m=\u001b[39m \u001b[39mint\u001b[39m(\u001b[39minput\u001b[39m(\u001b[39m'\u001b[39m\u001b[39mСумма = \u001b[39m\u001b[39m'\u001b[39m))\n",
      "\u001b[0;31mValueError\u001b[0m: invalid literal for int() with base 10: ''"
     ]
    }
   ],
   "source": [
    "first.get_expenses_group()\n",
    "first.add_expenses_auto()\n",
    "first.write_xlsx()\n",
    "first.table.tail()"
   ]
  },
  {
   "cell_type": "code",
   "execution_count": null,
   "metadata": {},
   "outputs": [],
   "source": []
  }
 ],
 "metadata": {
  "kernelspec": {
   "display_name": "Python 3",
   "language": "python",
   "name": "python3"
  },
  "language_info": {
   "codemirror_mode": {
    "name": "ipython",
    "version": 3
   },
   "file_extension": ".py",
   "mimetype": "text/x-python",
   "name": "python",
   "nbconvert_exporter": "python",
   "pygments_lexer": "ipython3",
   "version": "3.11.2"
  },
  "orig_nbformat": 4
 },
 "nbformat": 4,
 "nbformat_minor": 2
}
