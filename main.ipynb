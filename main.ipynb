{
 "cells": [
  {
   "cell_type": "code",
   "execution_count": 11,
   "metadata": {},
   "outputs": [],
   "source": [
    "import pandas as pd\n",
    "import datetime"
   ]
  },
  {
   "cell_type": "code",
   "execution_count": 82,
   "metadata": {},
   "outputs": [],
   "source": [
    "class money_tracker_month:\n",
    "    def __init__(self, month_number=datetime.date.today().month):\n",
    "        self.day = datetime.date.today().day\n",
    "        self.month_number = month_number\n",
    "        self.year = datetime.date.today().year\n",
    "        num_to_month = {\n",
    "            '1': 'Январь', '2': 'Февраль', '3': 'Март', '4': 'Апрель', '5': 'Май', '6': 'Июнь',\n",
    "            '7': 'Июль', '8': 'Август', '9': 'Сентябрь', '10': 'Октябрь', '11': 'Ноябрь', '12': 'Декабрь' }\n",
    "        self.month_name = num_to_month[str(month_number)]\n",
    "\n",
    "        self.table = pd.DataFrame({'дата': [], 'категория': [], 'сумма': [], 'комментарий': []})\n",
    "        self.table_name = str(self.month_name)+'_'+str(self.year)+'.xlsx'\n",
    "\n",
    "        self.expenses_group =  {1: 'продукты',\n",
    "                               2: 'транспорт',\n",
    "                               3: 'развлечения',\n",
    "                               4: 'здоровье',\n",
    "                               5: 'связь',\n",
    "                               6: 'квартплата',\n",
    "                               7: 'непредвиденное',\n",
    "                               8: 'одежда',\n",
    "                               9: 'цифровые',\n",
    "                               10: 'ненужные',\n",
    "                               11: 'прочее'}\n",
    "        \n",
    "        self.gain_group = {100: 'зарплата',\n",
    "                           101: 'подработка',\n",
    "                           102: 'дивиденды и купоны',\n",
    "                           103: 'депозиты'}\n",
    "\n",
    "    def create_xlsx(self, filename=None):\n",
    "        if filename == None:\n",
    "            self.table.to_excel(self.table_name, index=0)\n",
    "        else:\n",
    "            self.table_name = filename\n",
    "            self.table.to_excel(filename, index=0)\n",
    "\n",
    "    def read_xlsx(self, filename=None):\n",
    "        if filename == None:\n",
    "            self.table = pd.read_excel(self.table_name)\n",
    "        else:\n",
    "            self.table_name = filename\n",
    "            self.table = pd.read_excel(filename)\n",
    "\n",
    "            self.month_name = filename.split('_')[0]\n",
    "            self.year = filename.split('_')[1].split('.')[0]\n",
    "\n",
    "    def write_xlsx(self):\n",
    "        self.table.to_excel(self.table_name, index=0)\n",
    "\n",
    "    def get_expenses_group(self):\n",
    "        print('Группы расходов:')\n",
    "        for elem in self.expenses_group:\n",
    "            print(\"{:^8}\".format(elem), end='|')\n",
    "        print()\n",
    "        for value in self.expenses_group.values():\n",
    "            print(\"{:^5}\".format(value), end='|')\n",
    "        print()\n",
    "        print('Группы доходов:')\n",
    "        for elem in self.gain_group:\n",
    "            print(\"{:^8}\".format(elem), end='|')\n",
    "        print()\n",
    "        for value in self.gain_group.values():\n",
    "            print(\"{:^5}\".format(value), end='|')\n",
    "        print()\n",
    "\n",
    "    def add_expenses_manual(self, date=0, category='прочее', value=0,  comment=''):\n",
    "        self.table.loc[len(self.table)] = [date, category, value, comment]\n",
    "\n",
    "    def add_expenses_auto(self):\n",
    "        date = 1\n",
    "        while date != 0:\n",
    "            date = int(input('Дата = '))\n",
    "            num_category = int(input('Категория = '))\n",
    "            if num_category in self.expenses_group.keys():\n",
    "                self.table.loc[len(self.table)] = [date, self.expenses_group[num_category], int(input('Сумма = ')), str(input('Комментарий = '))]\n",
    "            elif num_category in self.gain_group.keys():\n",
    "                self.table.loc[len(self.table)] = [date, self.gain_group[num_category], int(input('Сумма = ')), str(input('Комментарий = '))]\n",
    "            else:\n",
    "                pass\n",
    "                # добавить ошибку ввода"
   ]
  },
  {
   "cell_type": "code",
   "execution_count": 72,
   "metadata": {},
   "outputs": [],
   "source": [
    "date = int(input('Дата = '))"
   ]
  },
  {
   "cell_type": "code",
   "execution_count": 83,
   "metadata": {},
   "outputs": [
    {
     "ename": "TypeError",
     "evalue": "unbound method datetime.date() needs an argument",
     "output_type": "error",
     "traceback": [
      "\u001b[0;31m---------------------------------------------------------------------------\u001b[0m",
      "\u001b[0;31mTypeError\u001b[0m                                 Traceback (most recent call last)",
      "\u001b[1;32m/Users/danita/Documents/GitHub/track-your-money/main.ipynb Ячейка 4\u001b[0m line \u001b[0;36m1\n\u001b[0;32m----> <a href='vscode-notebook-cell:/Users/danita/Documents/GitHub/track-your-money/main.ipynb#X21sZmlsZQ%3D%3D?line=0'>1</a>\u001b[0m datetime\u001b[39m.\u001b[39;49mdatetime\u001b[39m.\u001b[39;49mdate()\n",
      "\u001b[0;31mTypeError\u001b[0m: unbound method datetime.date() needs an argument"
     ]
    }
   ],
   "source": [
    "datetime.datetime.date()"
   ]
  },
  {
   "cell_type": "code",
   "execution_count": 87,
   "metadata": {},
   "outputs": [
    {
     "name": "stdout",
     "output_type": "stream",
     "text": [
      "14 Август 2023\n"
     ]
    }
   ],
   "source": [
    "first = money_tracker_month()\n",
    "print(first.day, first.month_name, first.year)\n",
    "# first.create_xlsx(filename='Август_2023.xlsx')"
   ]
  },
  {
   "cell_type": "code",
   "execution_count": 86,
   "metadata": {},
   "outputs": [
    {
     "data": {
      "text/html": [
       "<div>\n",
       "<style scoped>\n",
       "    .dataframe tbody tr th:only-of-type {\n",
       "        vertical-align: middle;\n",
       "    }\n",
       "\n",
       "    .dataframe tbody tr th {\n",
       "        vertical-align: top;\n",
       "    }\n",
       "\n",
       "    .dataframe thead th {\n",
       "        text-align: right;\n",
       "    }\n",
       "</style>\n",
       "<table border=\"1\" class=\"dataframe\">\n",
       "  <thead>\n",
       "    <tr style=\"text-align: right;\">\n",
       "      <th></th>\n",
       "      <th>дата</th>\n",
       "      <th>категория</th>\n",
       "      <th>сумма</th>\n",
       "      <th>комментарий</th>\n",
       "    </tr>\n",
       "  </thead>\n",
       "  <tbody>\n",
       "  </tbody>\n",
       "</table>\n",
       "</div>"
      ],
      "text/plain": [
       "Empty DataFrame\n",
       "Columns: [дата, категория, сумма, комментарий]\n",
       "Index: []"
      ]
     },
     "execution_count": 86,
     "metadata": {},
     "output_type": "execute_result"
    }
   ],
   "source": [
    "first.read_xlsx(filename='Август_2023.xlsx')\n",
    "first.table"
   ]
  },
  {
   "cell_type": "code",
   "execution_count": 58,
   "metadata": {},
   "outputs": [
    {
     "name": "stdout",
     "output_type": "stream",
     "text": [
      "Группы расходов:\n",
      "   1    |   2    |   3    |   4    |   5    |   6    |   7    |   8    |   9    |   10   |   11   |\n",
      "продукты|транспорт|развлечения|здоровье|связь|квартплата|непредвиденное|одежда|цифровые|ненужные|прочее|\n",
      "Группы доходов:\n",
      "  100   |  101   |  102   |  103   |\n",
      "зарплата|подработка|дивиденды и купоны|депозиты|\n"
     ]
    }
   ],
   "source": [
    "first.get_expenses_group()"
   ]
  },
  {
   "cell_type": "code",
   "execution_count": 59,
   "metadata": {},
   "outputs": [
    {
     "data": {
      "text/html": [
       "<div>\n",
       "<style scoped>\n",
       "    .dataframe tbody tr th:only-of-type {\n",
       "        vertical-align: middle;\n",
       "    }\n",
       "\n",
       "    .dataframe tbody tr th {\n",
       "        vertical-align: top;\n",
       "    }\n",
       "\n",
       "    .dataframe thead th {\n",
       "        text-align: right;\n",
       "    }\n",
       "</style>\n",
       "<table border=\"1\" class=\"dataframe\">\n",
       "  <thead>\n",
       "    <tr style=\"text-align: right;\">\n",
       "      <th></th>\n",
       "      <th>дата</th>\n",
       "      <th>категория</th>\n",
       "      <th>сумма</th>\n",
       "      <th>комментарий</th>\n",
       "    </tr>\n",
       "  </thead>\n",
       "  <tbody>\n",
       "    <tr>\n",
       "      <th>15</th>\n",
       "      <td>6</td>\n",
       "      <td>непредвиденное, ремонт</td>\n",
       "      <td>-64</td>\n",
       "      <td>ремонт окна</td>\n",
       "    </tr>\n",
       "    <tr>\n",
       "      <th>16</th>\n",
       "      <td>6</td>\n",
       "      <td>развлечения</td>\n",
       "      <td>-965</td>\n",
       "      <td>Суши Маркет</td>\n",
       "    </tr>\n",
       "    <tr>\n",
       "      <th>17</th>\n",
       "      <td>6</td>\n",
       "      <td>подработка</td>\n",
       "      <td>250</td>\n",
       "      <td>Даша</td>\n",
       "    </tr>\n",
       "    <tr>\n",
       "      <th>18</th>\n",
       "      <td>6</td>\n",
       "      <td>одежда, товары</td>\n",
       "      <td>-3897</td>\n",
       "      <td>Даша</td>\n",
       "    </tr>\n",
       "    <tr>\n",
       "      <th>19</th>\n",
       "      <td>6</td>\n",
       "      <td>одежда, товары</td>\n",
       "      <td>-3707</td>\n",
       "      <td>NaN</td>\n",
       "    </tr>\n",
       "  </tbody>\n",
       "</table>\n",
       "</div>"
      ],
      "text/plain": [
       "    дата               категория  сумма  комментарий\n",
       "15     6  непредвиденное, ремонт    -64  ремонт окна\n",
       "16     6             развлечения   -965  Суши Маркет\n",
       "17     6              подработка    250         Даша\n",
       "18     6          одежда, товары  -3897         Даша\n",
       "19     6          одежда, товары  -3707          NaN"
      ]
     },
     "execution_count": 59,
     "metadata": {},
     "output_type": "execute_result"
    }
   ],
   "source": [
    "# first.add_expenses(date=6, value=-3897, category='одежда, товары', comment='Даша')\n",
    "first.table.tail()"
   ]
  },
  {
   "cell_type": "code",
   "execution_count": 61,
   "metadata": {},
   "outputs": [
    {
     "name": "stdout",
     "output_type": "stream",
     "text": [
      "Группы расходов:\n",
      "   1    |   2    |   3    |   4    |   5    |   6    |   7    |   8    |   9    |   10   |   11   |\n",
      "продукты|транспорт|развлечения|здоровье|связь|квартплата|непредвиденное|одежда|цифровые|ненужные|прочее|\n",
      "Группы доходов:\n",
      "  100   |  101   |  102   |  103   |\n",
      "зарплата|подработка|дивиденды и купоны|депозиты|\n"
     ]
    },
    {
     "ename": "ValueError",
     "evalue": "invalid literal for int() with base 10: ''",
     "output_type": "error",
     "traceback": [
      "\u001b[0;31m---------------------------------------------------------------------------\u001b[0m",
      "\u001b[0;31mValueError\u001b[0m                                Traceback (most recent call last)",
      "\u001b[1;32m/Users/danita/Documents/GitHub/track-your-money/main.ipynb Ячейка 7\u001b[0m line \u001b[0;36m2\n\u001b[1;32m      <a href='vscode-notebook-cell:/Users/danita/Documents/GitHub/track-your-money/main.ipynb#X15sZmlsZQ%3D%3D?line=0'>1</a>\u001b[0m first\u001b[39m.\u001b[39mget_expenses_group()\n\u001b[0;32m----> <a href='vscode-notebook-cell:/Users/danita/Documents/GitHub/track-your-money/main.ipynb#X15sZmlsZQ%3D%3D?line=1'>2</a>\u001b[0m first\u001b[39m.\u001b[39;49madd_expenses_auto()\n\u001b[1;32m      <a href='vscode-notebook-cell:/Users/danita/Documents/GitHub/track-your-money/main.ipynb#X15sZmlsZQ%3D%3D?line=2'>3</a>\u001b[0m first\u001b[39m.\u001b[39mtable\n",
      "\u001b[1;32m/Users/danita/Documents/GitHub/track-your-money/main.ipynb Ячейка 7\u001b[0m line \u001b[0;36m6\n\u001b[1;32m     <a href='vscode-notebook-cell:/Users/danita/Documents/GitHub/track-your-money/main.ipynb#X15sZmlsZQ%3D%3D?line=66'>67</a>\u001b[0m \u001b[39mdef\u001b[39;00m \u001b[39madd_expenses_auto\u001b[39m(\u001b[39mself\u001b[39m):\n\u001b[0;32m---> <a href='vscode-notebook-cell:/Users/danita/Documents/GitHub/track-your-money/main.ipynb#X15sZmlsZQ%3D%3D?line=67'>68</a>\u001b[0m     date \u001b[39m=\u001b[39m \u001b[39mint\u001b[39;49m(\u001b[39minput\u001b[39;49m(\u001b[39m'\u001b[39;49m\u001b[39mAny number to start...\u001b[39;49m\u001b[39m'\u001b[39;49m))\n\u001b[1;32m     <a href='vscode-notebook-cell:/Users/danita/Documents/GitHub/track-your-money/main.ipynb#X15sZmlsZQ%3D%3D?line=68'>69</a>\u001b[0m     \u001b[39mwhile\u001b[39;00m date \u001b[39m!=\u001b[39m \u001b[39m0\u001b[39m:\n\u001b[1;32m     <a href='vscode-notebook-cell:/Users/danita/Documents/GitHub/track-your-money/main.ipynb#X15sZmlsZQ%3D%3D?line=69'>70</a>\u001b[0m         date \u001b[39m=\u001b[39m \u001b[39mint\u001b[39m(\u001b[39minput\u001b[39m(\u001b[39m'\u001b[39m\u001b[39mДата = \u001b[39m\u001b[39m'\u001b[39m))\n",
      "\u001b[0;31mValueError\u001b[0m: invalid literal for int() with base 10: ''"
     ]
    }
   ],
   "source": [
    "first.get_expenses_group()\n",
    "first.add_expenses_auto()\n",
    "first.table"
   ]
  },
  {
   "cell_type": "code",
   "execution_count": 64,
   "metadata": {},
   "outputs": [
    {
     "data": {
      "text/html": [
       "<div>\n",
       "<style scoped>\n",
       "    .dataframe tbody tr th:only-of-type {\n",
       "        vertical-align: middle;\n",
       "    }\n",
       "\n",
       "    .dataframe tbody tr th {\n",
       "        vertical-align: top;\n",
       "    }\n",
       "\n",
       "    .dataframe thead th {\n",
       "        text-align: right;\n",
       "    }\n",
       "</style>\n",
       "<table border=\"1\" class=\"dataframe\">\n",
       "  <thead>\n",
       "    <tr style=\"text-align: right;\">\n",
       "      <th></th>\n",
       "      <th>дата</th>\n",
       "      <th>категория</th>\n",
       "      <th>сумма</th>\n",
       "      <th>комментарий</th>\n",
       "    </tr>\n",
       "  </thead>\n",
       "  <tbody>\n",
       "    <tr>\n",
       "      <th>16</th>\n",
       "      <td>6</td>\n",
       "      <td>развлечения</td>\n",
       "      <td>-965</td>\n",
       "      <td>Суши Маркет</td>\n",
       "    </tr>\n",
       "    <tr>\n",
       "      <th>17</th>\n",
       "      <td>6</td>\n",
       "      <td>подработка</td>\n",
       "      <td>250</td>\n",
       "      <td>Даша</td>\n",
       "    </tr>\n",
       "    <tr>\n",
       "      <th>18</th>\n",
       "      <td>6</td>\n",
       "      <td>одежда, товары</td>\n",
       "      <td>-3897</td>\n",
       "      <td>Даша</td>\n",
       "    </tr>\n",
       "    <tr>\n",
       "      <th>19</th>\n",
       "      <td>6</td>\n",
       "      <td>одежда, товары</td>\n",
       "      <td>-3707</td>\n",
       "      <td>NaN</td>\n",
       "    </tr>\n",
       "    <tr>\n",
       "      <th>20</th>\n",
       "      <td>27</td>\n",
       "      <td>зарплата</td>\n",
       "      <td>3283</td>\n",
       "      <td>стипендия</td>\n",
       "    </tr>\n",
       "  </tbody>\n",
       "</table>\n",
       "</div>"
      ],
      "text/plain": [
       "    дата       категория  сумма  комментарий\n",
       "16     6     развлечения   -965  Суши Маркет\n",
       "17     6      подработка    250         Даша\n",
       "18     6  одежда, товары  -3897         Даша\n",
       "19     6  одежда, товары  -3707          NaN\n",
       "20    27        зарплата   3283    стипендия"
      ]
     },
     "execution_count": 64,
     "metadata": {},
     "output_type": "execute_result"
    }
   ],
   "source": [
    "first.table.tail()"
   ]
  },
  {
   "cell_type": "code",
   "execution_count": 71,
   "metadata": {},
   "outputs": [],
   "source": [
    "first.write_xlsx()"
   ]
  },
  {
   "cell_type": "code",
   "execution_count": null,
   "metadata": {},
   "outputs": [],
   "source": []
  }
 ],
 "metadata": {
  "kernelspec": {
   "display_name": "Python 3",
   "language": "python",
   "name": "python3"
  },
  "language_info": {
   "codemirror_mode": {
    "name": "ipython",
    "version": 3
   },
   "file_extension": ".py",
   "mimetype": "text/x-python",
   "name": "python",
   "nbconvert_exporter": "python",
   "pygments_lexer": "ipython3",
   "version": "3.11.2"
  },
  "orig_nbformat": 4
 },
 "nbformat": 4,
 "nbformat_minor": 2
}
