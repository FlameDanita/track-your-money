{
 "cells": [
  {
   "cell_type": "code",
   "execution_count": 3,
   "metadata": {},
   "outputs": [],
   "source": [
    "import pandas as pd\n",
    "import datetime"
   ]
  },
  {
   "cell_type": "code",
   "execution_count": 4,
   "metadata": {},
   "outputs": [],
   "source": [
    "month = pd.DataFrame({'категория': [], 'сумма': [], 'комментарий': []})"
   ]
  },
  {
   "cell_type": "code",
   "execution_count": 5,
   "metadata": {},
   "outputs": [
    {
     "data": {
      "text/html": [
       "<div>\n",
       "<style scoped>\n",
       "    .dataframe tbody tr th:only-of-type {\n",
       "        vertical-align: middle;\n",
       "    }\n",
       "\n",
       "    .dataframe tbody tr th {\n",
       "        vertical-align: top;\n",
       "    }\n",
       "\n",
       "    .dataframe thead th {\n",
       "        text-align: right;\n",
       "    }\n",
       "</style>\n",
       "<table border=\"1\" class=\"dataframe\">\n",
       "  <thead>\n",
       "    <tr style=\"text-align: right;\">\n",
       "      <th></th>\n",
       "      <th>категория</th>\n",
       "      <th>сумма</th>\n",
       "      <th>комментарий</th>\n",
       "    </tr>\n",
       "  </thead>\n",
       "  <tbody>\n",
       "  </tbody>\n",
       "</table>\n",
       "</div>"
      ],
      "text/plain": [
       "Empty DataFrame\n",
       "Columns: [категория, сумма, комментарий]\n",
       "Index: []"
      ]
     },
     "execution_count": 5,
     "metadata": {},
     "output_type": "execute_result"
    }
   ],
   "source": [
    "month"
   ]
  },
  {
   "cell_type": "code",
   "execution_count": 28,
   "metadata": {},
   "outputs": [],
   "source": [
    "class money_tracker_month:\n",
    "    def __init__(self, month_number=datetime.date.today().month):\n",
    "        self.day = datetime.date.today().day\n",
    "        self.month_number = month_number\n",
    "        self.year = datetime.date.today().year\n",
    "        num_to_month = {\n",
    "            '1': 'Январь', '2': 'Февраль', '3': 'Март', '4': 'Апрель', '5': 'Май', '6': 'Июнь',\n",
    "            '7': 'Июль', '8': 'Август', '9': 'Сентябрь', '10': 'Октябрь', '11': 'Ноябрь', '12': 'Декабрь' }\n",
    "        self.month_name = num_to_month[str(month_number)]\n",
    "\n",
    "        self.table = pd.DataFrame({'категория': [], 'сумма': [], 'комментарий': []})\n",
    "        self.table_name = str(self.month_name)+'_'+str(self.year)+'.xlsx'\n",
    "\n",
    "        self.expenses_group = ['здоровье и красота',\n",
    "                               'образование',\n",
    "                               'развлечения',\n",
    "                               'туризм, путешествия',\n",
    "                               'продукты и хозтовары',\n",
    "                               'квартплата',\n",
    "                               'интеренет и связь',\n",
    "                               'непредвиденное, ремонт',\n",
    "                               'одежда, товары',\n",
    "                               'цифровые покупки',\n",
    "                               'ненужные траты',\n",
    "                               'дети']\n",
    "        \n",
    "        self.gain_group = ['зарплата',\n",
    "                           'подработка',\n",
    "                           'дивиденды и купоны',\n",
    "                           'депозиты']\n",
    "\n",
    "    def create_xlsx(self, filename=None):\n",
    "        if filename == None:\n",
    "            self.table.to_excel(self.table_name, index=0)\n",
    "        else:\n",
    "            self.table_name = filename\n",
    "            self.table.to_excel(filename)\n",
    "\n",
    "    def read_xlsx(self, filename=None):\n",
    "        if filename == None:\n",
    "            self.table = pd.read_excel(self.table_name)\n",
    "        else:\n",
    "            self.table_name = filename\n",
    "            self.table = pd.read_excel(filename)\n",
    "\n",
    "    def write_xlsx(self):\n",
    "        self.table.to_excel(self.table_name)\n",
    "\n",
    "    def get_expenses_group(self):\n",
    "        print('Группы расходов:')\n",
    "        for elem in self.expenses_group:\n",
    "            print(elem, sep='   ')\n",
    "\n",
    "    def add_expenses(self):\n",
    "        pass\n"
   ]
  },
  {
   "cell_type": "code",
   "execution_count": 29,
   "metadata": {},
   "outputs": [
    {
     "ename": "AttributeError",
     "evalue": "'money_tracker_month' object has no attribute 'month_name'",
     "output_type": "error",
     "traceback": [
      "\u001b[0;31m---------------------------------------------------------------------------\u001b[0m",
      "\u001b[0;31mAttributeError\u001b[0m                            Traceback (most recent call last)",
      "\u001b[1;32m/Users/danita/Documents/GitHub/track-your-money/main.ipynb Ячейка 5\u001b[0m line \u001b[0;36m1\n\u001b[0;32m----> <a href='vscode-notebook-cell:/Users/danita/Documents/GitHub/track-your-money/main.ipynb#W4sZmlsZQ%3D%3D?line=0'>1</a>\u001b[0m first \u001b[39m=\u001b[39m money_tracker_month()\n\u001b[1;32m      <a href='vscode-notebook-cell:/Users/danita/Documents/GitHub/track-your-money/main.ipynb#W4sZmlsZQ%3D%3D?line=1'>2</a>\u001b[0m \u001b[39mprint\u001b[39m(first\u001b[39m.\u001b[39mday, first\u001b[39m.\u001b[39mmonth_name, first\u001b[39m.\u001b[39myear)\n\u001b[1;32m      <a href='vscode-notebook-cell:/Users/danita/Documents/GitHub/track-your-money/main.ipynb#W4sZmlsZQ%3D%3D?line=2'>3</a>\u001b[0m \u001b[39m# first.create_xlsx()\u001b[39;00m\n",
      "\u001b[1;32m/Users/danita/Documents/GitHub/track-your-money/main.ipynb Ячейка 5\u001b[0m line \u001b[0;36m7\n\u001b[1;32m      <a href='vscode-notebook-cell:/Users/danita/Documents/GitHub/track-your-money/main.ipynb#W4sZmlsZQ%3D%3D?line=4'>5</a>\u001b[0m \u001b[39mself\u001b[39m\u001b[39m.\u001b[39myear \u001b[39m=\u001b[39m datetime\u001b[39m.\u001b[39mdate\u001b[39m.\u001b[39mtoday()\u001b[39m.\u001b[39myear\n\u001b[1;32m      <a href='vscode-notebook-cell:/Users/danita/Documents/GitHub/track-your-money/main.ipynb#W4sZmlsZQ%3D%3D?line=5'>6</a>\u001b[0m \u001b[39mself\u001b[39m\u001b[39m.\u001b[39mtable \u001b[39m=\u001b[39m pd\u001b[39m.\u001b[39mDataFrame({\u001b[39m'\u001b[39m\u001b[39mкатегория\u001b[39m\u001b[39m'\u001b[39m: [\u001b[39m1\u001b[39m], \u001b[39m'\u001b[39m\u001b[39mсумма\u001b[39m\u001b[39m'\u001b[39m: [\u001b[39m2\u001b[39m], \u001b[39m'\u001b[39m\u001b[39mкомментарий\u001b[39m\u001b[39m'\u001b[39m: [\u001b[39m3\u001b[39m]})\n\u001b[0;32m----> <a href='vscode-notebook-cell:/Users/danita/Documents/GitHub/track-your-money/main.ipynb#W4sZmlsZQ%3D%3D?line=6'>7</a>\u001b[0m \u001b[39mself\u001b[39m\u001b[39m.\u001b[39mtable_name \u001b[39m=\u001b[39m \u001b[39mstr\u001b[39m(\u001b[39mself\u001b[39;49m\u001b[39m.\u001b[39;49mmonth_name)\u001b[39m+\u001b[39m\u001b[39m'\u001b[39m\u001b[39m_\u001b[39m\u001b[39m'\u001b[39m\u001b[39m+\u001b[39m\u001b[39mstr\u001b[39m(\u001b[39mself\u001b[39m\u001b[39m.\u001b[39myear)\u001b[39m+\u001b[39m\u001b[39m'\u001b[39m\u001b[39m.xlsx\u001b[39m\u001b[39m'\u001b[39m\n\u001b[1;32m      <a href='vscode-notebook-cell:/Users/danita/Documents/GitHub/track-your-money/main.ipynb#W4sZmlsZQ%3D%3D?line=8'>9</a>\u001b[0m d \u001b[39m=\u001b[39m {\n\u001b[1;32m     <a href='vscode-notebook-cell:/Users/danita/Documents/GitHub/track-your-money/main.ipynb#W4sZmlsZQ%3D%3D?line=9'>10</a>\u001b[0m     \u001b[39m'\u001b[39m\u001b[39m1\u001b[39m\u001b[39m'\u001b[39m: \u001b[39m'\u001b[39m\u001b[39mЯнварь\u001b[39m\u001b[39m'\u001b[39m, \u001b[39m'\u001b[39m\u001b[39m2\u001b[39m\u001b[39m'\u001b[39m: \u001b[39m'\u001b[39m\u001b[39mФевраль\u001b[39m\u001b[39m'\u001b[39m, \u001b[39m'\u001b[39m\u001b[39m3\u001b[39m\u001b[39m'\u001b[39m: \u001b[39m'\u001b[39m\u001b[39mМарт\u001b[39m\u001b[39m'\u001b[39m, \u001b[39m'\u001b[39m\u001b[39m4\u001b[39m\u001b[39m'\u001b[39m: \u001b[39m'\u001b[39m\u001b[39mАпрель\u001b[39m\u001b[39m'\u001b[39m, \u001b[39m'\u001b[39m\u001b[39m5\u001b[39m\u001b[39m'\u001b[39m: \u001b[39m'\u001b[39m\u001b[39mМай\u001b[39m\u001b[39m'\u001b[39m, \u001b[39m'\u001b[39m\u001b[39m6\u001b[39m\u001b[39m'\u001b[39m: \u001b[39m'\u001b[39m\u001b[39mИюнь\u001b[39m\u001b[39m'\u001b[39m,\n\u001b[1;32m     <a href='vscode-notebook-cell:/Users/danita/Documents/GitHub/track-your-money/main.ipynb#W4sZmlsZQ%3D%3D?line=10'>11</a>\u001b[0m     \u001b[39m'\u001b[39m\u001b[39m7\u001b[39m\u001b[39m'\u001b[39m: \u001b[39m'\u001b[39m\u001b[39mИюль\u001b[39m\u001b[39m'\u001b[39m, \u001b[39m'\u001b[39m\u001b[39m8\u001b[39m\u001b[39m'\u001b[39m: \u001b[39m'\u001b[39m\u001b[39mАвгуст\u001b[39m\u001b[39m'\u001b[39m, \u001b[39m'\u001b[39m\u001b[39m9\u001b[39m\u001b[39m'\u001b[39m: \u001b[39m'\u001b[39m\u001b[39mСентябрь\u001b[39m\u001b[39m'\u001b[39m, \u001b[39m'\u001b[39m\u001b[39m10\u001b[39m\u001b[39m'\u001b[39m: \u001b[39m'\u001b[39m\u001b[39mОктябрь\u001b[39m\u001b[39m'\u001b[39m, \u001b[39m'\u001b[39m\u001b[39m11\u001b[39m\u001b[39m'\u001b[39m: \u001b[39m'\u001b[39m\u001b[39mНоябрь\u001b[39m\u001b[39m'\u001b[39m, \u001b[39m'\u001b[39m\u001b[39m12\u001b[39m\u001b[39m'\u001b[39m: \u001b[39m'\u001b[39m\u001b[39mДекабрь\u001b[39m\u001b[39m'\u001b[39m }\n\u001b[1;32m     <a href='vscode-notebook-cell:/Users/danita/Documents/GitHub/track-your-money/main.ipynb#W4sZmlsZQ%3D%3D?line=12'>13</a>\u001b[0m \u001b[39mself\u001b[39m\u001b[39m.\u001b[39mmonth_name \u001b[39m=\u001b[39m d[\u001b[39mstr\u001b[39m(month_number)]\n",
      "\u001b[0;31mAttributeError\u001b[0m: 'money_tracker_month' object has no attribute 'month_name'"
     ]
    }
   ],
   "source": [
    "first = money_tracker_month()\n",
    "print(first.day, first.month_name, first.year)\n",
    "# first.create_xlsx()"
   ]
  },
  {
   "cell_type": "code",
   "execution_count": 30,
   "metadata": {},
   "outputs": [
    {
     "data": {
      "text/html": [
       "<div>\n",
       "<style scoped>\n",
       "    .dataframe tbody tr th:only-of-type {\n",
       "        vertical-align: middle;\n",
       "    }\n",
       "\n",
       "    .dataframe tbody tr th {\n",
       "        vertical-align: top;\n",
       "    }\n",
       "\n",
       "    .dataframe thead th {\n",
       "        text-align: right;\n",
       "    }\n",
       "</style>\n",
       "<table border=\"1\" class=\"dataframe\">\n",
       "  <thead>\n",
       "    <tr style=\"text-align: right;\">\n",
       "      <th></th>\n",
       "      <th>категория</th>\n",
       "      <th>сумма</th>\n",
       "      <th>комментарий</th>\n",
       "    </tr>\n",
       "  </thead>\n",
       "  <tbody>\n",
       "    <tr>\n",
       "      <th>0</th>\n",
       "      <td>1</td>\n",
       "      <td>2</td>\n",
       "      <td>3</td>\n",
       "    </tr>\n",
       "  </tbody>\n",
       "</table>\n",
       "</div>"
      ],
      "text/plain": [
       "   категория  сумма  комментарий\n",
       "0          1      2            3"
      ]
     },
     "execution_count": 30,
     "metadata": {},
     "output_type": "execute_result"
    }
   ],
   "source": [
    "first.read_xlsx()\n",
    "first.table"
   ]
  },
  {
   "cell_type": "code",
   "execution_count": 27,
   "metadata": {},
   "outputs": [
    {
     "data": {
      "text/html": [
       "<div>\n",
       "<style scoped>\n",
       "    .dataframe tbody tr th:only-of-type {\n",
       "        vertical-align: middle;\n",
       "    }\n",
       "\n",
       "    .dataframe tbody tr th {\n",
       "        vertical-align: top;\n",
       "    }\n",
       "\n",
       "    .dataframe thead th {\n",
       "        text-align: right;\n",
       "    }\n",
       "</style>\n",
       "<table border=\"1\" class=\"dataframe\">\n",
       "  <thead>\n",
       "    <tr style=\"text-align: right;\">\n",
       "      <th></th>\n",
       "      <th>категория</th>\n",
       "      <th>сумма</th>\n",
       "      <th>комментарий</th>\n",
       "    </tr>\n",
       "  </thead>\n",
       "  <tbody>\n",
       "    <tr>\n",
       "      <th>0</th>\n",
       "      <td>1</td>\n",
       "      <td>2</td>\n",
       "      <td>3</td>\n",
       "    </tr>\n",
       "  </tbody>\n",
       "</table>\n",
       "</div>"
      ],
      "text/plain": [
       "   категория  сумма  комментарий\n",
       "0          1      2            3"
      ]
     },
     "execution_count": 27,
     "metadata": {},
     "output_type": "execute_result"
    }
   ],
   "source": []
  },
  {
   "cell_type": "code",
   "execution_count": null,
   "metadata": {},
   "outputs": [],
   "source": []
  },
  {
   "cell_type": "code",
   "execution_count": null,
   "metadata": {},
   "outputs": [],
   "source": []
  }
 ],
 "metadata": {
  "kernelspec": {
   "display_name": "Python 3",
   "language": "python",
   "name": "python3"
  },
  "language_info": {
   "codemirror_mode": {
    "name": "ipython",
    "version": 3
   },
   "file_extension": ".py",
   "mimetype": "text/x-python",
   "name": "python",
   "nbconvert_exporter": "python",
   "pygments_lexer": "ipython3",
   "version": "3.11.2"
  },
  "orig_nbformat": 4
 },
 "nbformat": 4,
 "nbformat_minor": 2
}
