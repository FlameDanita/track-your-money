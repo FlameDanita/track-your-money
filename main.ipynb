{
 "cells": [
  {
   "cell_type": "code",
   "execution_count": 1,
   "metadata": {},
   "outputs": [],
   "source": [
    "import pandas as pd\n",
    "import datetime"
   ]
  },
  {
   "cell_type": "code",
   "execution_count": 2,
   "metadata": {},
   "outputs": [],
   "source": [
    "class money_tracker_month:\n",
    "    def __init__(self, month_number=datetime.date.today().month):\n",
    "        self.day = datetime.date.today().day\n",
    "        self.month_number = month_number\n",
    "        self.year = datetime.date.today().year\n",
    "        self.num_to_month = {\n",
    "            1: 'Январь', 2: 'Февраль', 3: 'Март', 4: 'Апрель', 5: 'Май', 6: 'Июнь',\n",
    "            7: 'Июль', 8: 'Август', 9: 'Сентябрь', 10: 'Октябрь', 11: 'Ноябрь', 12: 'Декабрь' }\n",
    "        self.month_name = self.num_to_month[month_number]\n",
    "        self.date = datetime.datetime(day=self.day, month=self.month_number, year=self.year)\n",
    "\n",
    "        self.table = pd.DataFrame({'дата': [], 'категория': [], 'сумма': [], 'комментарий': []})\n",
    "        self.table_name = str(self.month_name)+'_'+str(self.year)+'.xlsx'\n",
    "\n",
    "        self.expenses_group =  {1: 'продукты',\n",
    "                               2: 'транспорт',\n",
    "                               3: 'развлечения',\n",
    "                               4: 'здоровье',\n",
    "                               5: 'связь',\n",
    "                               6: 'квартплата',\n",
    "                               7: 'непредвиденное',\n",
    "                               8: 'одежда',\n",
    "                               9: 'цифровые',\n",
    "                               10: 'ненужные',\n",
    "                               11: 'прочее'}\n",
    "        \n",
    "        self.gain_group = {100: 'зарплата',\n",
    "                           101: 'подработка',\n",
    "                           102: 'дивиденды',\n",
    "                           103: 'депозиты'}\n",
    "\n",
    "    def create_xlsx(self, filename=None):\n",
    "        if filename == None:\n",
    "            self.table.to_excel(self.table_name, index=0)\n",
    "        else:\n",
    "            self.table_name = filename\n",
    "            self.table.to_excel(filename, index=0)\n",
    "\n",
    "    def read_xlsx(self, filename=None):\n",
    "        if filename == None:\n",
    "            self.table = pd.read_excel(self.table_name)\n",
    "        else:\n",
    "            self.table_name = filename\n",
    "            self.table = pd.read_excel(filename)\n",
    "\n",
    "            self.month_name = filename.split('_')[0]\n",
    "            for key, value in self.num_to_month.items():\n",
    "                if self.month_name == value:\n",
    "                    self.month_number = key\n",
    "            self.year = int(filename.split('_')[1].split('.')[0])\n",
    "\n",
    "            self.date = datetime.datetime(day=self.day, month=self.month_number, year=self.year)\n",
    "\n",
    "    def write_xlsx(self):\n",
    "        self.table.to_excel(self.table_name, index=0)\n",
    "\n",
    "    def get_expenses_group(self):\n",
    "        print('Группы расходов:')\n",
    "        for key, value in self.expenses_group.items():\n",
    "            print(\"{:>2}\".format(key), end='|')\n",
    "            print(\"{:<15}\".format(value)+'|')\n",
    "        print()\n",
    "\n",
    "        print('Группы доходов:')\n",
    "        for key, value in self.gain_group.items():\n",
    "            print(\"{:>2}\".format(key), end='|')\n",
    "            print(\"{:<15}\".format(value)+'|')\n",
    "        print()\n",
    "\n",
    "    def add_expenses_manual(self, date=0, category='прочее', value=0,  comment=''):\n",
    "        self.table.loc[len(self.table)] = [date, category, value, comment]\n",
    "\n",
    "    def add_expenses_auto(self):\n",
    "        flag = True\n",
    "        month_num = \"{:>02d}\".format(self.month_number)\n",
    "        while True:\n",
    "            date = \"{:>02d}\".format(int(input('Дата = '))) + '.' + month_num + '.' + str(self.year)\n",
    "\n",
    "            num_category = int(input('Категория = '))\n",
    "\n",
    "            cost = int(input('Сумма = '))\n",
    "            if num_category in self.expenses_group.keys():\n",
    "                self.table.loc[len(self.table)] = [date, self.expenses_group[num_category], -cost, str(input('Комментарий = '))]\n",
    "            elif num_category in self.gain_group.keys():\n",
    "                self.table.loc[len(self.table)] = [date, self.gain_group[num_category], cost, str(input('Комментарий = '))]\n",
    "            else:\n",
    "                pass\n",
    "                # добавить ошибку ввода\n",
    "\n",
    "            if str(input('Продолжить?[Y/n]')) == 'n':\n",
    "                break\n"
   ]
  },
  {
   "cell_type": "code",
   "execution_count": 5,
   "metadata": {},
   "outputs": [
    {
     "name": "stdout",
     "output_type": "stream",
     "text": [
      "18 Сентябрь 2023\n"
     ]
    }
   ],
   "source": [
    "first = money_tracker_month()\n",
    "print(first.day, first.month_name, first.year)\n",
    "# first.create_xlsx(filename='Сентябрь_2023.xlsx')\n",
    "first.write_xlsx()"
   ]
  },
  {
   "cell_type": "code",
   "execution_count": 37,
   "metadata": {},
   "outputs": [
    {
     "data": {
      "text/html": [
       "<div>\n",
       "<style scoped>\n",
       "    .dataframe tbody tr th:only-of-type {\n",
       "        vertical-align: middle;\n",
       "    }\n",
       "\n",
       "    .dataframe tbody tr th {\n",
       "        vertical-align: top;\n",
       "    }\n",
       "\n",
       "    .dataframe thead th {\n",
       "        text-align: right;\n",
       "    }\n",
       "</style>\n",
       "<table border=\"1\" class=\"dataframe\">\n",
       "  <thead>\n",
       "    <tr style=\"text-align: right;\">\n",
       "      <th></th>\n",
       "      <th>дата</th>\n",
       "      <th>категория</th>\n",
       "      <th>сумма</th>\n",
       "      <th>комментарий</th>\n",
       "    </tr>\n",
       "  </thead>\n",
       "  <tbody>\n",
       "  </tbody>\n",
       "</table>\n",
       "</div>"
      ],
      "text/plain": [
       "Empty DataFrame\n",
       "Columns: [дата, категория, сумма, комментарий]\n",
       "Index: []"
      ]
     },
     "execution_count": 37,
     "metadata": {},
     "output_type": "execute_result"
    }
   ],
   "source": [
    "first.read_xlsx(filename='Август_2023.xlsx')\n",
    "first.table"
   ]
  },
  {
   "cell_type": "code",
   "execution_count": 35,
   "metadata": {},
   "outputs": [
    {
     "name": "stdout",
     "output_type": "stream",
     "text": [
      "Группы расходов:\n",
      " 1|продукты       |\n",
      " 2|транспорт      |\n",
      " 3|развлечения    |\n",
      " 4|здоровье       |\n",
      " 5|связь          |\n",
      " 6|квартплата     |\n",
      " 7|непредвиденное |\n",
      " 8|одежда         |\n",
      " 9|цифровые       |\n",
      "10|ненужные       |\n",
      "11|прочее         |\n",
      "\n",
      "Группы доходов:\n",
      "100|зарплата       |\n",
      "101|подработка     |\n",
      "102|дивиденды      |\n",
      "103|депозиты       |\n",
      "\n"
     ]
    }
   ],
   "source": [
    "first.get_expenses_group()"
   ]
  },
  {
   "cell_type": "code",
   "execution_count": 36,
   "metadata": {},
   "outputs": [
    {
     "data": {
      "text/html": [
       "<div>\n",
       "<style scoped>\n",
       "    .dataframe tbody tr th:only-of-type {\n",
       "        vertical-align: middle;\n",
       "    }\n",
       "\n",
       "    .dataframe tbody tr th {\n",
       "        vertical-align: top;\n",
       "    }\n",
       "\n",
       "    .dataframe thead th {\n",
       "        text-align: right;\n",
       "    }\n",
       "</style>\n",
       "<table border=\"1\" class=\"dataframe\">\n",
       "  <thead>\n",
       "    <tr style=\"text-align: right;\">\n",
       "      <th></th>\n",
       "      <th>дата</th>\n",
       "      <th>категория</th>\n",
       "      <th>сумма</th>\n",
       "      <th>комментарий</th>\n",
       "    </tr>\n",
       "  </thead>\n",
       "  <tbody>\n",
       "    <tr>\n",
       "      <th>33</th>\n",
       "      <td>14.09.2023</td>\n",
       "      <td>продукты</td>\n",
       "      <td>-390</td>\n",
       "      <td>Обед СМ</td>\n",
       "    </tr>\n",
       "    <tr>\n",
       "      <th>34</th>\n",
       "      <td>15.09.2023</td>\n",
       "      <td>развлечения</td>\n",
       "      <td>-175</td>\n",
       "      <td>Точка. Молочный коктель</td>\n",
       "    </tr>\n",
       "    <tr>\n",
       "      <th>35</th>\n",
       "      <td>15.09.2023</td>\n",
       "      <td>одежда</td>\n",
       "      <td>-4005</td>\n",
       "      <td>Рюкзак 13.3</td>\n",
       "    </tr>\n",
       "    <tr>\n",
       "      <th>36</th>\n",
       "      <td>17.09.2023</td>\n",
       "      <td>развлечения</td>\n",
       "      <td>-1400</td>\n",
       "      <td>Хачипури</td>\n",
       "    </tr>\n",
       "    <tr>\n",
       "      <th>37</th>\n",
       "      <td>09.09.2023</td>\n",
       "      <td>подработка</td>\n",
       "      <td>5000</td>\n",
       "      <td>Сборка ПК для Олега</td>\n",
       "    </tr>\n",
       "  </tbody>\n",
       "</table>\n",
       "</div>"
      ],
      "text/plain": [
       "          дата    категория  сумма               комментарий\n",
       "33  14.09.2023     продукты   -390                   Обед СМ\n",
       "34  15.09.2023  развлечения   -175  Точка. Молочный коктель \n",
       "35  15.09.2023       одежда  -4005               Рюкзак 13.3\n",
       "36  17.09.2023  развлечения  -1400                  Хачипури\n",
       "37  09.09.2023   подработка   5000       Сборка ПК для Олега"
      ]
     },
     "execution_count": 36,
     "metadata": {},
     "output_type": "execute_result"
    }
   ],
   "source": [
    "first.add_expenses_auto()\n",
    "first.write_xlsx()\n",
    "first.table.tail()"
   ]
  },
  {
   "cell_type": "code",
   "execution_count": 28,
   "metadata": {},
   "outputs": [],
   "source": [
    "first.write_xlsx()"
   ]
  },
  {
   "cell_type": "code",
   "execution_count": null,
   "metadata": {},
   "outputs": [],
   "source": []
  }
 ],
 "metadata": {
  "kernelspec": {
   "display_name": "Python 3",
   "language": "python",
   "name": "python3"
  },
  "language_info": {
   "codemirror_mode": {
    "name": "ipython",
    "version": 3
   },
   "file_extension": ".py",
   "mimetype": "text/x-python",
   "name": "python",
   "nbconvert_exporter": "python",
   "pygments_lexer": "ipython3",
   "version": "3.11.2"
  },
  "orig_nbformat": 4
 },
 "nbformat": 4,
 "nbformat_minor": 2
}
